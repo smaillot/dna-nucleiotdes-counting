{
 "cells": [
  {
   "cell_type": "markdown",
   "metadata": {
    "collapsed": true
   },
   "source": [
    "# Jun gene count"
   ]
  },
  {
   "cell_type": "markdown",
   "metadata": {},
   "source": [
    "## Dependencies"
   ]
  },
  {
   "cell_type": "code",
   "execution_count": 24,
   "metadata": {},
   "outputs": [],
   "source": [
    "import numpy as np\n",
    "import cProfile\n",
    "import pstats\n",
    "import time\n",
    "import matplotlib.pyplot as plt\n",
    "from scipy import stats\n",
    "%matplotlib inline"
   ]
  },
  {
   "cell_type": "code",
   "execution_count": 3,
   "metadata": {},
   "outputs": [
    {
     "name": "stdout",
     "output_type": "stream",
     "text": [
      "GACATCATGGGCTATTTTTAGGGGTTGACTGGTAGCAGATAAGTGTTGAGCTCGGGCTGGATAAGGGCTCAGAGTTGCACTGAGTGTGGCTGAAGCAGCGAGGCGGGAGTGGAGGTGCGCGGAGTCAGGCAGACAGACAGACACAGCCAGCCAGCCAGGTCGGCAGTATAGTCCGAACTGCAAATCTTATTTTCTTTTCACCTTCTCTCTAACTGCCCAGAGCTAGCGCCTGTGGCTCCCGGGCTGGTGTTTCGGGAGTGTCCAGAGAGCCTGGTCTCCAGCCGCCCCCGGGAGGAGAGCCCTGCTGCCCAGGCGCTGTTGACAGCGGCGGAAAGCAGCGGTACCCACGCGCCCGCCGGGGGAAGTCGGCGAGCGGCTGCAGCAGCAAAGAACTTTCCCGGCTGGGAGGACCGGAGACAAGTGGCAGAGTCCCGGAGCCAACTTTTGCAAGCCTTTCCTGCGTCTTAGGCTTCTCCACGGCGGTAAAGACCAGAAGGCGGCGGAGAGCCACGCAAGAGAAGAAGGACGTGCGCTCAGCTTCGCTCGCACCGGTTGTTGAACTTGGGCGAGCGCGAGCCGCGGCTGCCGGGCGCCCCCTCCCCCTAGCAGCGGAGGAGGGGACAAGTCGTCGGAGTCCGGGCGGCCAAGACCCGCCGCCGGCCGGCCACTGCAGGGTCCGCACTGATCCGCTCCGCGGGGAGAGCCGCTGCTCTGGGAAGTGAGTTCGCCTGCGGACTCCGAGGAACCGCTGCGCACGAAGAGCGCTCAGTGAGTGACCGCGACTTTTCAAAGCCGGGTAGCGCGCGCGAGTCGACAAGTAAGAGTGCGGGAGGCATCTTAATTAACCCTGCGCTCCCTGGAGCGAGCTGGTGAGGAGGGCGCAGCGGGGACGACAGCCAGCGGGTGCGTGCGCTCTTAGAGAAACTTTCCCTGTCAAAGGCTCCGGGGGGCGCGGGTGTCCCCCGCTTGCCACAGCCCTGTTGCGGCCCCGAAACTTGTGCGCGCAGCCCAAACTAACCTCACGTGAAGTGACGGACTGTTCTATGACTGCAAAGATGGAAACGACCTTCTATGACGATGCCCTCAACGCCTCGTTCCTCCCGTCCGAGAGCGGACCTTATGGCTACAGTAACCCCAAGATCCTGAAACAGAGCATGACCCTGAACCTGGCCGACCCAGTGGGGAGCCTGAAGCCGCACCTCCGCGCCAAGAACTCGGACCTCCTCACCTCGCCCGACGTGGGGCTGCTCAAGCTGGCGTCGCCCGAGCTGGAGCGCCTGATAATCCAGTCCAGCAACGGGCACATCACCACCACGCCGACCCCCACCCAGTTCCTGTGCCCCAAGAACGTGACAGATGAGCAGGAGGGCTTCGCCGAGGGCTTCGTGCGCGCCCTGGCCGAACTGCACAGCCAGAACACGCTGCCCAGCGTCACGTCGGCGGCGCAGCCGGTCAACGGGGCAGGCATGGTGGCTCCCGCGGTAGCCTCGGTGGCAGGGGGCAGCGGCAGCGGCGGCTTCAGCGCCAGCCTGCACAGCGAGCCGCCGGTCTACGCAAACCTCAGCAACTTCAACCCAGGCGCGCTGAGCAGCGGCGGCGGGGCGCCCTCCTACGGCGCGGCCGGCCTGGCCTTTCCCGCGCAACCCCAGCAGCAGCAGCAGCCGCCGCACCACCTGCCCCAGCAGATGCCCGTGCAGCACCCGCGGCTGCAGGCCCTGAAGGAGGAGCCTCAGACAGTGCCCGAGATGCCCGGCGAGACACCGCCCCTGTCCCCCATCGACATGGAGTCCCAGGAGCGGATCAAGGCGGAGAGGAAGCGCATGAGGAACCGCATCGCTGCCTCCAAGTGCCGAAAAAGGAAGCTGGAGAGAATCGCCCGGCTGGAGGAAAAAGTGAAAACCTTGAAAGCTCAGAACTCGGAGCTGGCGTCCACGGCCAACATGCTCAGGGAACAGGTGGCACAGCTTAAACAGAAAGTCATGAACCACGTTAACAGTGGGTGCCAACTCATGCTAACGCAGCAGTTGCAAACATTTTGAAGAGAGACCGTCGGGGGCTGAGGGGCAACGAAGAAAAAAAATAACACAGAGAGACAGACTTGAGAACTTGACAAGTTGCGACGGAGAGAAAAAAGAAGTGTCCGAGAACTAAAGCCAAGGGTATCCAAGTTGGACTGGGTTGCGTCCTGACGGCGCCCCCAGTGTGCACGAGTGGGAAGGACTTGGCGCGCCCTCCCTTGGCGTGGAGCCAGGGAGCGGCCGCCTGCGGGCTGCCCCGCTTTGCGGACGGGCTGTCCCCGCGCGAACGGAACGTTGGACTTTTCGTTAACATTGACCAAGAACTGCATGGACCTAACATTCGATCTCATTCAGTATTAAAGGGGGGAGGGGGAGGGGGTTACAAACTGCAATAGAGACTGTAGATTGCTTCTGTAGTACTCCTTAAGAACACAAAGCGGGGGGAGGGTTGGGGAGGGGCGGCAGGAGGGAGGTTTGTGAGAGCGAGGCTGAGCCTACAGATGAACTCTTTCTGGCCTGCCTTCGTTAACTGTGTATGTACATATATATATTTTTTAATTTGATGAAAGCTGATTACTGTCAATAAACAGCTTCATGCCTTTGTAAGTTATTTCTTGTTTGTTTGTTTGGGTATCCTGCCCAGTGTTGTTTGTAAATAAGAGATTTGGAGCACTCTGAGTTTACCATTTGTAATAAAGTATATAATTTTTTTATGTTTTGTTTCTGAAAATTCCAGAAAGGATATTTAAGAAAATACAATAAACTATTGGAAAGTACTCCCCTAACCTCTTTTCTGCATCATCTGTAGATACTAGCTATCTAGGTGGAGTTGAAAGAGTTAAGAATGTCGATTAAAATCACTCTCAGTGCTTCTTACTATTAAGCAGTAAAAACTGTTCTCTATTAGACTTTAGAAATAAATGTACCTGATGTACCTGATGCTATGGTCAGGTTATACTCCTCCTCCCCCAGCTATCTATATGGAATTGCTTACCAAAGGATAGTGCGATGTTTCAGGAGGCTGGAGGAAGGGGGGTTGCAGTGGAGAGGGACAGCCCACTGAGAAGTCAAACATTTCAAAGTTTGGATTGTATCAAGTGGCATGTGCTGTGACCATTTATAATGTTAGTAGAAATTTTACAATAGGTGCTTATTCTCAAAGCAGGAATTGGTGGCAGATTTTACAAAAGATGTATCCTTCCAATTTGGAATCTTCTCTTTGACAATTCCTAGATAAAAAGATGGCCTTTGCTTATGAATATTTATAACAGCATTCTTGTCACAATAAATGTATTCAAATACCAA\n"
     ]
    }
   ],
   "source": [
    "seq = open('jun.txt','r').read()\n",
    "print(seq)"
   ]
  },
  {
   "cell_type": "markdown",
   "metadata": {},
   "source": [
    "## Split sequence"
   ]
  },
  {
   "cell_type": "code",
   "execution_count": 4,
   "metadata": {},
   "outputs": [
    {
     "name": "stdout",
     "output_type": "stream",
     "text": [
      "Test by splitting the sequence : ATCGATG TriNucleotides\n"
     ]
    },
    {
     "data": {
      "text/plain": [
       "['ATC', 'GAT']"
      ]
     },
     "execution_count": 4,
     "metadata": {},
     "output_type": "execute_result"
    }
   ],
   "source": [
    "def split_gene(gene_seq, n=3):\n",
    "    ## split a string containing nucleotids into an array of n-nucleotides per cell\n",
    "    #if np.mod(len(gene_seq), n) != 0:\n",
    "        #print('WARNING ! This sequence has a length of ' + str(len(gene_seq)) + ' nucleotides wich is not a multiple of ' + str(n) + '. The last ' + str(np.mod(len(gene_seq),n)) + ' nucleotide(s) has then been ignored.')#, file=sys.stderr)\n",
    "    return [gene_seq[i-(n-1):i+1] for i in range(n-1,len(gene_seq)//n * n,n)]\n",
    "\n",
    "test_seq = 'ATCGATG'\n",
    "print('Test by splitting the sequence : ' + test_seq + ' TriNucleotides')\n",
    "split_gene(test_seq)"
   ]
  },
  {
   "cell_type": "markdown",
   "metadata": {},
   "source": [
    "## List combinations"
   ]
  },
  {
   "cell_type": "code",
   "execution_count": 40,
   "metadata": {},
   "outputs": [
    {
     "name": "stdout",
     "output_type": "stream",
     "text": [
      "Test by searching all possible BiNucleotide :\n",
      "['AA', 'AT', 'AC', 'AG', 'TA', 'TT', 'TC', 'TG', 'CA', 'CT', 'CC', 'CG', 'GA', 'GT', 'GC', 'GG']\n"
     ]
    }
   ],
   "source": [
    "def list_single_combination(n):\n",
    "    nucl_list = 'A T C G'.split()\n",
    "    ## list all different n-combinations of the elements in nucl_list\n",
    "    if n == 1:\n",
    "        return nucl_list\n",
    "    else:\n",
    "        sub = list_single_combination(n - 1)\n",
    "        return [n + s for n in nucl_list for s in sub]\n",
    "    \n",
    "print('Test by searching all possible BiNucleotide :')\n",
    "print(list_single_combination(2))"
   ]
  },
  {
   "cell_type": "markdown",
   "metadata": {},
   "source": [
    "## Count frequency"
   ]
  },
  {
   "cell_type": "code",
   "execution_count": 47,
   "metadata": {},
   "outputs": [
    {
     "name": "stdout",
     "output_type": "stream",
     "text": [
      "Test by counting nucleotides frequency in ATCGATG\n",
      "{'T': 2, 'G': 2, 'C': 1, 'A': 2}\n"
     ]
    }
   ],
   "source": [
    "def count_freq(array, combin_list):\n",
    "    ## count the number of occurrencies of each combination in combin_list that appears in array\n",
    "    freq = {}\n",
    "    for c in combin_list:\n",
    "        freq[c] = array.count(c)\n",
    "    return freq\n",
    "\n",
    "print('Test by counting nucleotides frequency in ' + test_seq)\n",
    "print(count_freq(split_gene(test_seq,1), list_single_combination(1)))"
   ]
  },
  {
   "cell_type": "markdown",
   "metadata": {},
   "source": [
    "## Count frequencies"
   ]
  },
  {
   "cell_type": "code",
   "execution_count": 48,
   "metadata": {
    "scrolled": true
   },
   "outputs": [
    {
     "name": "stdout",
     "output_type": "stream",
     "text": [
      "{'T': 257, 'G': 269, 'C': 233, 'A': 241}\n",
      "\n",
      "\n",
      "\n",
      "{'GA': 28, 'GT': 33, 'AC': 38, 'CT': 25, 'GG': 33, 'TC': 23, 'CG': 39, 'TG': 35, 'AG': 34, 'CC': 23, 'GC': 34, 'AA': 29, 'TA': 31, 'CA': 28, 'AT': 24, 'TT': 43}\n",
      "\n",
      "\n",
      "\n",
      "{'CAG': 5, 'CCG': 4, 'AAC': 2, 'AGG': 5, 'TCA': 7, 'GCC': 8, 'CGA': 6, 'ATC': 4, 'AAG': 6, 'CGT': 4, 'CGG': 5, 'TTA': 7, 'ACA': 1, 'ACG': 8, 'TGG': 5, 'TAT': 7, 'GAT': 7, 'AGC': 4, 'GGG': 8, 'TAC': 7, 'CAC': 7, 'GCT': 6, 'TAG': 8, 'TTG': 9, 'TTC': 5, 'ACC': 5, 'GCA': 3, 'CTG': 6, 'GAC': 5, 'TGT': 5, 'TGA': 3, 'CCC': 2, 'GCG': 8, 'TAA': 2, 'CTA': 2, 'ATG': 2, 'CGC': 2, 'GAA': 4, 'ACT': 7, 'TCG': 5, 'GAG': 6, 'CCA': 6, 'AGA': 6, 'GTA': 8, 'TTT': 6, 'GGA': 5, 'TCC': 5, 'AAT': 10, 'TGC': 8, 'GTT': 4, 'CAT': 2, 'ATA': 4, 'CTT': 5, 'TCT': 0, 'CTC': 4, 'GGT': 3, 'CAA': 1, 'GTC': 8, 'AGT': 5, 'AAA': 8, 'GGC': 5, 'CCT': 8, 'ATT': 4, 'GTG': 6}\n",
      "\n",
      "\n",
      "\n"
     ]
    }
   ],
   "source": [
    "for n in range(1,4):\n",
    "    print(count_freq(split_gene(seq, n), list_single_combination(n)))\n",
    "    print('\\n\\n')"
   ]
  },
  {
   "cell_type": "markdown",
   "metadata": {},
   "source": [
    "## Generate sequence"
   ]
  },
  {
   "cell_type": "code",
   "execution_count": 8,
   "metadata": {},
   "outputs": [],
   "source": [
    "def generate_seq(N):\n",
    "    d={};d[0]='A';d[1]='T';d[2]='C';d[3]='G'\n",
    "    return ''.join([d[np.random.randint(4)] for _ in range(N)])"
   ]
  },
  {
   "cell_type": "code",
   "execution_count": 13,
   "metadata": {},
   "outputs": [
    {
     "data": {
      "text/plain": [
       "'TCATGTATAGGAGCTATAGT'"
      ]
     },
     "execution_count": 13,
     "metadata": {},
     "output_type": "execute_result"
    }
   ],
   "source": [
    "generate_seq(20)"
   ]
  },
  {
   "cell_type": "markdown",
   "metadata": {},
   "source": [
    "# Profiling"
   ]
  },
  {
   "cell_type": "code",
   "execution_count": 49,
   "metadata": {
    "scrolled": false
   },
   "outputs": [],
   "source": [
    "seq = generate_seq(10**7)\n",
    "\n",
    "def count_freq_profiled(n = 3):\n",
    "    print('Profiling for n=' + str(n))\n",
    "    def func():\n",
    "        count_freq(split_gene(seq, n), list_single_combination(n))\n",
    "    fpath ='counting.prof'\n",
    "    prof = cProfile.Profile()\n",
    "    ret = prof.runcall(func)\n",
    "    prof.dump_stats(fpath)\n",
    "    print_profile(fpath)\n",
    "\n",
    "def print_profile(f, n='', sort='time'):\n",
    "    p = pstats.Stats(f)\n",
    "    p.sort_stats(sort)\n",
    "    p.print_stats(n)"
   ]
  },
  {
   "cell_type": "code",
   "execution_count": 50,
   "metadata": {},
   "outputs": [
    {
     "name": "stdout",
     "output_type": "stream",
     "text": [
      "Profiling for n=1\n",
      "Mon Apr 24 11:12:10 2017    counting.prof\n",
      "\n",
      "         12 function calls in 3.042 seconds\n",
      "\n",
      "   Ordered by: internal time\n",
      "\n",
      "   ncalls  tottime  percall  cumtime  percall filename:lineno(function)\n",
      "        1    2.318    2.318    2.318    2.318 <ipython-input-4-0274a29caa49>:5(<listcomp>)\n",
      "        4    0.703    0.176    0.703    0.176 {method 'count' of 'list' objects}\n",
      "        1    0.020    0.020    3.042    3.042 <ipython-input-49-1c9365dae148>:5(func)\n",
      "        1    0.000    0.000    0.703    0.703 <ipython-input-47-ee69316a9203>:1(count_freq)\n",
      "        1    0.000    0.000    0.000    0.000 <ipython-input-40-50df4fd2fc85>:1(list_single_combination)\n",
      "        1    0.000    0.000    2.318    2.318 <ipython-input-4-0274a29caa49>:1(split_gene)\n",
      "        1    0.000    0.000    0.000    0.000 {method 'split' of 'str' objects}\n",
      "        1    0.000    0.000    0.000    0.000 {method 'disable' of '_lsprof.Profiler' objects}\n",
      "        1    0.000    0.000    0.000    0.000 {built-in method builtins.len}\n",
      "\n",
      "\n",
      "Profiling for n=2\n",
      "Mon Apr 24 11:12:13 2017    counting.prof\n",
      "\n",
      "         27 function calls (26 primitive calls) in 3.178 seconds\n",
      "\n",
      "   Ordered by: internal time\n",
      "\n",
      "   ncalls  tottime  percall  cumtime  percall filename:lineno(function)\n",
      "       16    1.748    0.109    1.748    0.109 {method 'count' of 'list' objects}\n",
      "        1    1.336    1.336    1.336    1.336 <ipython-input-4-0274a29caa49>:5(<listcomp>)\n",
      "        1    0.094    0.094    3.178    3.178 <ipython-input-49-1c9365dae148>:5(func)\n",
      "        1    0.000    0.000    1.748    1.748 <ipython-input-47-ee69316a9203>:1(count_freq)\n",
      "      2/1    0.000    0.000    0.000    0.000 <ipython-input-40-50df4fd2fc85>:1(list_single_combination)\n",
      "        1    0.000    0.000    1.336    1.336 <ipython-input-4-0274a29caa49>:1(split_gene)\n",
      "        2    0.000    0.000    0.000    0.000 {method 'split' of 'str' objects}\n",
      "        1    0.000    0.000    0.000    0.000 <ipython-input-40-50df4fd2fc85>:8(<listcomp>)\n",
      "        1    0.000    0.000    0.000    0.000 {built-in method builtins.len}\n",
      "        1    0.000    0.000    0.000    0.000 {method 'disable' of '_lsprof.Profiler' objects}\n",
      "\n",
      "\n",
      "Profiling for n=3\n",
      "Mon Apr 24 11:12:19 2017    counting.prof\n",
      "\n",
      "         78 function calls (76 primitive calls) in 5.791 seconds\n",
      "\n",
      "   Ordered by: internal time\n",
      "\n",
      "   ncalls  tottime  percall  cumtime  percall filename:lineno(function)\n",
      "       64    4.786    0.075    4.786    0.075 {method 'count' of 'list' objects}\n",
      "        1    0.943    0.943    0.943    0.943 <ipython-input-4-0274a29caa49>:5(<listcomp>)\n",
      "        1    0.062    0.062    5.791    5.791 <ipython-input-49-1c9365dae148>:5(func)\n",
      "        1    0.000    0.000    4.786    4.786 <ipython-input-47-ee69316a9203>:1(count_freq)\n",
      "      3/1    0.000    0.000    0.000    0.000 <ipython-input-40-50df4fd2fc85>:1(list_single_combination)\n",
      "        2    0.000    0.000    0.000    0.000 <ipython-input-40-50df4fd2fc85>:8(<listcomp>)\n",
      "        1    0.000    0.000    0.943    0.943 <ipython-input-4-0274a29caa49>:1(split_gene)\n",
      "        3    0.000    0.000    0.000    0.000 {method 'split' of 'str' objects}\n",
      "        1    0.000    0.000    0.000    0.000 {built-in method builtins.len}\n",
      "        1    0.000    0.000    0.000    0.000 {method 'disable' of '_lsprof.Profiler' objects}\n",
      "\n",
      "\n"
     ]
    }
   ],
   "source": [
    "for i in range(1,4):\n",
    "    count_freq_profiled(i)"
   ]
  },
  {
   "cell_type": "markdown",
   "metadata": {},
   "source": [
    "## Estimate computation time"
   ]
  },
  {
   "cell_type": "code",
   "execution_count": 51,
   "metadata": {},
   "outputs": [
    {
     "name": "stdout",
     "output_type": "stream",
     "text": [
      "Slope for 1-nucleotides = 3.32090076262e-07\n",
      "Slope for 2-nucleotides = 3.24018621896e-07\n",
      "Slope for 3-nucleotides = 6.23406533767e-07\n"
     ]
    },
    {
     "data": {
      "image/png": "[encoded data removed]",
      "text/plain": [
       "<matplotlib.figure.Figure at 0x1c0e05a0908>"
      ]
     },
     "metadata": {},
     "output_type": "display_data"
    }
   ],
   "source": [
    "N = [int(k) for k in np.linspace(10**0,10**3,20)][1::]\n",
    "t = [0]*len(N)\n",
    "\n",
    "for n in range(1,4):\n",
    "    for i in range(len(N)):\n",
    "        seq = generate_seq(N[i])\n",
    "        start = time.time()\n",
    "        it = 1000\n",
    "        for _ in range(it):\n",
    "            count_freq(split_gene(seq, n), list_single_combination(n))\n",
    "        t[i] = (time.time() - start) / it\n",
    "    plt.plot(N, t)\n",
    "    slope, intercept, r_value, p_value, std_err = stats.linregress(N,t)\n",
    "    print('Slope for ' + str(n) + '-nucleotides = ' + str(slope))"
   ]
  },
  {
   "cell_type": "code",
   "execution_count": 52,
   "metadata": {},
   "outputs": [
    {
     "name": "stdout",
     "output_type": "stream",
     "text": [
      "Prediction based on triNucleotides (slowest) : 623.406533767µs/nucl (confidence = 99.1389812349%)\n",
      "\n",
      "Human genome processing time : 0h 36min 21.9228681839s\n"
     ]
    }
   ],
   "source": [
    "print('Prediction based on triNucleotides (slowest) : ' + str(10**9*slope) + 'µs/nucl (confidence = ' + str(100*r_value) + '%)\\n')\n",
    "proc_time = slope * 3.5 * 10**9\n",
    "print('Human genome processing time : ' + str(int(proc_time//3600)) + 'h ' + str(int(proc_time//60)) + 'min ' + str(proc_time%60) + 's')"
   ]
  },
  {
   "cell_type": "code",
   "execution_count": null,
   "metadata": {
    "collapsed": true
   },
   "outputs": [],
   "source": []
  }
 ],
 "metadata": {
  "anaconda-cloud": {},
  "kernelspec": {
   "display_name": "Python 3",
   "language": "python",
   "name": "python3"
  },
  "language_info": {
   "codemirror_mode": {
    "name": "ipython",
    "version": 3
   },
   "file_extension": ".py",
   "mimetype": "text/x-python",
   "name": "python",
   "nbconvert_exporter": "python",
   "pygments_lexer": "ipython3",
   "version": "3.6.1"
  }
 },
 "nbformat": 4,
 "nbformat_minor": 2
}
